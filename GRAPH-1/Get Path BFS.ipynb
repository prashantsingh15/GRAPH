{
 "cells": [
  {
   "cell_type": "code",
   "execution_count": 1,
   "id": "8423b8a6",
   "metadata": {},
   "outputs": [
    {
     "name": "stdout",
     "output_type": "stream",
     "text": [
      "4 4\n",
      "0 1\n",
      "0 3\n",
      "1 2\n",
      "2 3\n",
      "1 3\n",
      "3 0 1 "
     ]
    }
   ],
   "source": [
    "import queue\n",
    "def getpath(adjMat,visited,v1,v2,V):\n",
    "    q = queue.Queue()\n",
    "    q.put(v1)\n",
    "    dict = {}\n",
    "    visited[v1] =True\n",
    "    dict[v1] =-1\n",
    "    while q.empty() is False:\n",
    "        x = q.get()\n",
    "        if x ==v2:\n",
    "            print(x,end=\" \")\n",
    "            i = x\n",
    "            while dict[i] !=-1:\n",
    "                print(dict[i],end=\" \")\n",
    "                i = dict[i]\n",
    "            break\n",
    "        for i in range(V):\n",
    "            if adjMat[x][i] >0 and visited[i] ==False:\n",
    "                dict[i] =x\n",
    "                q.put(i)\n",
    "                visited[i] =True\n",
    "\n",
    "list = input().split()\n",
    "V = int(list[0]) + 1\n",
    "E = int(list[1])\n",
    "adjMat = [[0 for i in range(V)] for j in range(V)]\n",
    "for i in range(E):\n",
    "    list2 =  input().split()\n",
    "    a = int(list2[0])\n",
    "    b = int(list2[1])\n",
    "    adjMat[a][b] = 1\n",
    "    adjMat[b][a] = 1\n",
    "visited = [False for i in range(V)]\n",
    "lst = input().split()\n",
    "v1 = int(lst[0])\n",
    "v2 = int(lst[1])\n",
    "getpath(adjMat,visited,v1,v2,V)"
   ]
  }
 ],
 "metadata": {
  "kernelspec": {
   "display_name": "Python 3 (ipykernel)",
   "language": "python",
   "name": "python3"
  },
  "language_info": {
   "codemirror_mode": {
    "name": "ipython",
    "version": 3
   },
   "file_extension": ".py",
   "mimetype": "text/x-python",
   "name": "python",
   "nbconvert_exporter": "python",
   "pygments_lexer": "ipython3",
   "version": "3.11.2"
  }
 },
 "nbformat": 4,
 "nbformat_minor": 5
}
