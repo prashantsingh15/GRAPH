{
 "cells": [
  {
   "cell_type": "code",
   "execution_count": 5,
   "id": "ad61237c",
   "metadata": {},
   "outputs": [
    {
     "name": "stdout",
     "output_type": "stream",
     "text": [
      "4 4\n",
      "0 1\n",
      "0 3\n",
      "1 2\n",
      "2 3\n",
      "1 3\n",
      "3 0 1\n"
     ]
    }
   ],
   "source": [
    "import sys\n",
    "x = 1009\n",
    "sys.setrecursionlimit(x)\n",
    "# Write your code here\n",
    "def pathHelper(adjMat,visited,list,sv,ev,V):\n",
    "    if sv == ev:\n",
    "        list.append(ev)\n",
    "        return True\n",
    "    visited[sv] = True\n",
    "    for i in range(V):\n",
    "        if adjMat[sv][i] > 0 and visited[i] == False:\n",
    "            smallOutput = pathHelper(adjMat,visited,list,i,ev,V)\n",
    "            if smallOutput:\n",
    "                list.append(sv)\n",
    "                return True\n",
    "    return False\n",
    "    \n",
    "def path(adjMat,visited,v1,v2,V):\n",
    "    list= []\n",
    "    pathHelper(adjMat,visited,list,v1,v2,V)\n",
    "    if len(list):\n",
    "    \tprint(*list)\n",
    "    else:\n",
    "        print(\"\")\n",
    "        \n",
    "arr = input().split()\n",
    "\n",
    "V = int(arr[0])\n",
    "E =int(arr[1])\n",
    "\n",
    "adjMat = [[0 for i in range(V)] for j in range(V)]\n",
    "for i in range(E):\n",
    "    arr1 = input().split()\n",
    "    a = int(arr1[0])\n",
    "    b=int(arr1[1])\n",
    "    adjMat[a][b] =1\n",
    "    adjMat[b][a] =1\n",
    "visited = [False for i in range(V)]\n",
    "list = input().split()\n",
    "v1 = int(list[0])\n",
    "v2 = int(list[1])\n",
    "path(adjMat,visited,v1,v2,V)\n",
    "    \n",
    "    "
   ]
  }
 ],
 "metadata": {
  "kernelspec": {
   "display_name": "Python 3 (ipykernel)",
   "language": "python",
   "name": "python3"
  },
  "language_info": {
   "codemirror_mode": {
    "name": "ipython",
    "version": 3
   },
   "file_extension": ".py",
   "mimetype": "text/x-python",
   "name": "python",
   "nbconvert_exporter": "python",
   "pygments_lexer": "ipython3",
   "version": "3.11.2"
  }
 },
 "nbformat": 4,
 "nbformat_minor": 5
}
