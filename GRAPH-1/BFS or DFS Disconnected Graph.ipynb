{
 "cells": [
  {
   "cell_type": "code",
   "execution_count": 1,
   "id": "4284d387",
   "metadata": {},
   "outputs": [
    {
     "name": "stdout",
     "output_type": "stream",
     "text": [
      "0\n",
      "1\n",
      "3\n",
      "2\n",
      "4\n",
      "5\n",
      "6\n"
     ]
    }
   ],
   "source": [
    "import queue\n",
    "class Graph:\n",
    "    def __init__(self,nVertices):\n",
    "        self.nVertices=nVertices\n",
    "        self.adjMatrix=[[0 for i in range(nVertices)]for j in range(nVertices)]\n",
    "        \n",
    "    def addEdge(self,v1,v2):\n",
    "        self.adjMatrix[v1][v2]=1\n",
    "        self.adjMatrix[v2][v1]=1\n",
    "    def __dfsHelper(self,sv,visited):\n",
    "        print(sv)\n",
    "        visited[sv]=True\n",
    "        for i in range(self.nVertices):\n",
    "            if self.adjMatrix[sv][i]>0 and visited[i] is False:\n",
    "                self.__dfsHelper(i,visited)\n",
    "                \n",
    "        \n",
    "        \n",
    "    def dfs(self):\n",
    "        visited=[False for i in range(self.nVertices)]\n",
    "        for i in range(self.nVertices):\n",
    "            if visited[i] is False:\n",
    "                self.__dfsHelper(i,visited)\n",
    "        \n",
    "    def __bfsHelper(self,sv,visited):\n",
    "        q=queue.Queue()\n",
    "        q.put(sv)\n",
    "        visited[sv]=True\n",
    "        while q.empty() is False:\n",
    "            u=q.get()\n",
    "            print(u)\n",
    "            for i in range(self.nVertices):\n",
    "                if self.adjMatrix[u][i]>0 and visited[i] is False:\n",
    "                    q.put(i)\n",
    "                    visited[i]=True\n",
    "    def bfs(self):\n",
    "        visited=[False for i in range(self.nVertices)]\n",
    "        for i in range(self.nVertices):\n",
    "            if visited[i] is False:\n",
    "                self.__bfsHelper(i,visited)\n",
    "    def removeEdge(self):\n",
    "        if self.containsEdge(v1,v2) is False:\n",
    "            return\n",
    "        self.adjMatrix[v1][v2]=0\n",
    "        self.adjMatrix[v2][v1]=0\n",
    "    def containsEdge(self,v1,v2):\n",
    "        return True if self.adjMatrix[v1][v2]>0 else False\n",
    "    def __str__(self):\n",
    "        return str(self.adjMatrix)\n",
    "g=Graph(7)\n",
    "g.addEdge(0,1)\n",
    "g.addEdge(0,3)\n",
    "g.addEdge(2,4)\n",
    "g.addEdge(2,5)\n",
    "g.addEdge(4,6)\n",
    "g.bfs()"
   ]
  }
 ],
 "metadata": {
  "kernelspec": {
   "display_name": "Python 3 (ipykernel)",
   "language": "python",
   "name": "python3"
  },
  "language_info": {
   "codemirror_mode": {
    "name": "ipython",
    "version": 3
   },
   "file_extension": ".py",
   "mimetype": "text/x-python",
   "name": "python",
   "nbconvert_exporter": "python",
   "pygments_lexer": "ipython3",
   "version": "3.11.2"
  }
 },
 "nbformat": 4,
 "nbformat_minor": 5
}
